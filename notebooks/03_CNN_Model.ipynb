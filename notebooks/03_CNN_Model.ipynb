{
 "cells": [
  {
   "metadata": {},
   "cell_type": "raw",
   "source": "# === 1. Importy i ustawienia ===#%% md\n",
   "id": "958513a4dacbdff2"
  },
  {
   "metadata": {
    "ExecuteTime": {
     "end_time": "2025-06-09T03:11:58.731756Z",
     "start_time": "2025-06-09T03:11:58.728275Z"
    }
   },
   "cell_type": "code",
   "source": [
    "\n",
    "import pandas as pd\n",
    "import numpy as np\n",
    "from src.cnn_model_improvedv2 import TimeSeriesCNNImprovedV2\n",
    "from src.cnn_trainer_improved import CNNTrainerImproved\n",
    "from src.utils import create_directories, plot_training_history, plot_predictions\n",
    "from src.features import create_advanced_features\n",
    "from sklearn.preprocessing import MinMaxScaler\n",
    "from sklearn.model_selection import train_test_split\n",
    "from torch.utils.data import DataLoader\n",
    "from torch.utils.data import Dataset\n",
    "import torch\n",
    "import matplotlib.pyplot as plt\n",
    "create_directories()\n"
   ],
   "id": "b7a31df7286ef274",
   "outputs": [
    {
     "name": "stdout",
     "output_type": "stream",
     "text": [
      "Struktura katalogów utworzona pomyślnie.\n"
     ]
    }
   ],
   "execution_count": 44
  },
  {
   "metadata": {},
   "cell_type": "markdown",
   "source": "# === 2. Dane wejściowe ===",
   "id": "f4dea2b6705c4eea"
  },
  {
   "metadata": {
    "ExecuteTime": {
     "end_time": "2025-06-09T03:11:58.774037Z",
     "start_time": "2025-06-09T03:11:58.755217Z"
    }
   },
   "cell_type": "code",
   "source": [
    "df = pd.read_csv(\"data/processed/cleaned_data.csv\")\n",
    "df['Date'] = pd.to_datetime(df['Date'], utc=True)\n",
    "df = create_advanced_features(df)\n",
    "\n",
    "features = [col for col in df.columns if col not in ['Date', 'Close/Last']]\n",
    "target_col = 'Close/Last'"
   ],
   "id": "525c61424ed32355",
   "outputs": [],
   "execution_count": 45
  },
  {
   "metadata": {},
   "cell_type": "markdown",
   "source": "# === 3. Skalowanie i sekwencje ===",
   "id": "a36e160160878c74"
  },
  {
   "metadata": {
    "ExecuteTime": {
     "end_time": "2025-06-09T03:11:58.806624Z",
     "start_time": "2025-06-09T03:11:58.795543Z"
    }
   },
   "cell_type": "code",
   "source": [
    "scaler_x = MinMaxScaler()\n",
    "scaler_y = MinMaxScaler()\n",
    "X_scaled = scaler_x.fit_transform(df[features])\n",
    "y_scaled = scaler_y.fit_transform(df[[target_col]])\n",
    "\n",
    "seq_length = 30\n",
    "def create_sequence_data(data, seq_length):\n",
    "    X = []\n",
    "    for i in range(len(data) - seq_length):\n",
    "        X.append(data[i:i+seq_length])\n",
    "    return np.array(X), data[seq_length:]\n",
    "X_seq, _ = create_sequence_data(X_scaled, seq_length)\n",
    "y_seq = y_scaled[seq_length:]\n",
    "\n",
    "X_temp, X_test, y_temp, y_test = train_test_split(X_seq, y_seq, test_size=0.2, shuffle=False)\n",
    "val_ratio = 0.1 / (1 - 0.2)\n",
    "X_train, X_val, y_train, y_val = train_test_split(X_temp, y_temp, test_size=val_ratio, shuffle=False)"
   ],
   "id": "fe4233ecc35e1d10",
   "outputs": [],
   "execution_count": 46
  },
  {
   "metadata": {},
   "cell_type": "markdown",
   "source": "# === 4. DataLoadery ===",
   "id": "4a8cd994f232943f"
  },
  {
   "metadata": {
    "ExecuteTime": {
     "end_time": "2025-06-09T03:11:58.833462Z",
     "start_time": "2025-06-09T03:11:58.830129Z"
    }
   },
   "cell_type": "code",
   "source": [
    "class TimeSeriesDataset(Dataset):\n",
    "    def __init__(self, X, y):\n",
    "        self.X = torch.tensor(X, dtype=torch.float32)\n",
    "        self.y = torch.tensor(y, dtype=torch.float32)\n",
    "\n",
    "    def __len__(self):\n",
    "        return len(self.X)\n",
    "\n",
    "    def __getitem__(self, idx):\n",
    "        return self.X[idx], self.y[idx]\n",
    "\n",
    "\n",
    "batch_size = 64\n",
    "train_loader = DataLoader(TimeSeriesDataset(X_train, y_train), batch_size=batch_size, shuffle=True)\n",
    "val_loader = DataLoader(TimeSeriesDataset(X_val, y_val), batch_size=batch_size)\n",
    "test_loader = DataLoader(TimeSeriesDataset(X_test, y_test), batch_size=batch_size)"
   ],
   "id": "b522ca97dc8c02a1",
   "outputs": [],
   "execution_count": 47
  },
  {
   "metadata": {},
   "cell_type": "markdown",
   "source": "# === 5. Model i trening ===",
   "id": "242b6c983089c6a7"
  },
  {
   "metadata": {
    "ExecuteTime": {
     "end_time": "2025-06-09T03:12:05.499748Z",
     "start_time": "2025-06-09T03:11:58.867339Z"
    }
   },
   "cell_type": "code",
   "source": [
    "model = TimeSeriesCNNImprovedV2(input_channels=X_train.shape[2], seq_length=X_train.shape[1])\n",
    "trainer = CNNTrainerImproved(model)\n",
    "history = trainer.fit(train_loader, val_loader, epochs=150, early_stopping_patience=20)"
   ],
   "id": "2fb4979bd0aa54dc",
   "outputs": [
    {
     "name": "stdout",
     "output_type": "stream",
     "text": [
      "Epoka 1: Train=0.01871, Val=0.02925\n",
      "Epoka 2: Train=0.00382, Val=0.00323\n",
      "Epoka 3: Train=0.00345, Val=0.00595\n",
      "Epoka 4: Train=0.00307, Val=0.00068\n",
      "Epoka 5: Train=0.00288, Val=0.00663\n",
      "Epoka 6: Train=0.00343, Val=0.00128\n",
      "Epoka 7: Train=0.00295, Val=0.00109\n",
      "Epoka 8: Train=0.00262, Val=0.00107\n",
      "Epoka 9: Train=0.00231, Val=0.00100\n",
      "Epoka 10: Train=0.00254, Val=0.00098\n",
      "Epoka 11: Train=0.00292, Val=0.00107\n",
      "Epoka 12: Train=0.00229, Val=0.00154\n",
      "Epoka 13: Train=0.00196, Val=0.00031\n",
      "Epoka 14: Train=0.00212, Val=0.00041\n",
      "Epoka 15: Train=0.00210, Val=0.00100\n",
      "Epoka 16: Train=0.00192, Val=0.00194\n",
      "Epoka 17: Train=0.00181, Val=0.00039\n",
      "Epoka 18: Train=0.00192, Val=0.00040\n",
      "Epoka 19: Train=0.00233, Val=0.00057\n",
      "Epoka 20: Train=0.00239, Val=0.00088\n",
      "Epoka 21: Train=0.00269, Val=0.00393\n",
      "Epoka 22: Train=0.00227, Val=0.00025\n",
      "Epoka 23: Train=0.00210, Val=0.00516\n",
      "Epoka 24: Train=0.00183, Val=0.00087\n",
      "Epoka 25: Train=0.00159, Val=0.00167\n",
      "Epoka 26: Train=0.00174, Val=0.00085\n",
      "Epoka 27: Train=0.00193, Val=0.00267\n",
      "Epoka 28: Train=0.00186, Val=0.00098\n",
      "Epoka 29: Train=0.00200, Val=0.00493\n",
      "Epoka 30: Train=0.00224, Val=0.00193\n",
      "Epoka 31: Train=0.00164, Val=0.00162\n",
      "Epoka 32: Train=0.00197, Val=0.00230\n",
      "Epoka 33: Train=0.00195, Val=0.00061\n",
      "Epoka 34: Train=0.00196, Val=0.00035\n",
      "Epoka 35: Train=0.00178, Val=0.00188\n",
      "Epoka 36: Train=0.00216, Val=0.00034\n",
      "Epoka 37: Train=0.00175, Val=0.00089\n",
      "Epoka 38: Train=0.00146, Val=0.00054\n",
      "Epoka 39: Train=0.00151, Val=0.00036\n",
      "Epoka 40: Train=0.00166, Val=0.00034\n",
      "Epoka 41: Train=0.00183, Val=0.00061\n",
      "Epoka 42: Train=0.00201, Val=0.00181\n",
      "Early stopping\n"
     ]
    }
   ],
   "execution_count": 48
  },
  {
   "metadata": {},
   "cell_type": "markdown",
   "source": "# === 6. Ewaluacja ===",
   "id": "6dd7a3773551a300"
  },
  {
   "metadata": {
    "ExecuteTime": {
     "end_time": "2025-06-09T03:12:05.533383Z",
     "start_time": "2025-06-09T03:12:05.521490Z"
    }
   },
   "cell_type": "code",
   "source": "metrics = trainer.evaluate(X_test, y_test, scaler=scaler_y)",
   "id": "4de30b0e30cbe9ef",
   "outputs": [
    {
     "name": "stdout",
     "output_type": "stream",
     "text": [
      "\n",
      "=== Metryki wydajności modelu ===\n",
      "MSE: 731.005216\n",
      "RMSE: 27.037108\n",
      "MAE: 23.827563\n",
      "R²: 0.810594\n"
     ]
    }
   ],
   "execution_count": 49
  },
  {
   "metadata": {},
   "cell_type": "markdown",
   "source": "# === 7. Wizualizacja ===",
   "id": "c28b3656fac74e2c"
  },
  {
   "metadata": {},
   "cell_type": "code",
   "outputs": [],
   "execution_count": null,
   "source": [
    "fig1 = plot_training_history(history)\n",
    "fig2 = plot_predictions(y_test, trainer.predict(X_test), scaler=scaler_y)\n",
    "plt.show(fig1)\n",
    "plt.show(fig2)\n"
   ],
   "id": "541be843c558b121"
  },
  {
   "metadata": {
    "ExecuteTime": {
     "end_time": "2025-06-19T22:03:45.036593Z",
     "start_time": "2025-06-19T22:03:43.393330Z"
    }
   },
   "cell_type": "code",
   "source": [
    "import torch\n",
    "from sklearn.metrics import mean_absolute_error, mean_squared_error, r2_score\n",
    "import numpy as np\n",
    "\n",
    "def directional_accuracy(y_true, y_pred):\n",
    "    return np.mean((np.diff(y_true.flatten()) > 0) == (np.diff(y_pred.flatten()) > 0))\n",
    "\n",
    "# Oblicz metryki\n",
    "train_mae = mean_absolute_error(y_train_real, train_predictions_denorm)\n",
    "test_mae = mean_absolute_error(y_test_real, test_predictions_denorm)\n",
    "train_r2 = r2_score(y_train_real, train_predictions_denorm)\n",
    "test_r2 = r2_score(y_test_real, test_predictions_denorm)\n",
    "train_dir = directional_accuracy(y_train_real, train_predictions_denorm)\n",
    "test_dir = directional_accuracy(y_test_real, test_predictions_denorm)\n",
    "\n",
    "# Zapis danych\n",
    "torch.save({\n",
    "    'train_predictions': train_predictions_denorm,\n",
    "    'test_predictions': test_predictions_denorm,\n",
    "    'y_train_real': y_train_real,\n",
    "    'y_test_real': y_test_real,\n",
    "    'train_losses': train_losses,\n",
    "    'val_losses': val_losses,\n",
    "    'train_dates': df.index[seq_length:train_size],\n",
    "    'test_dates': df.index[train_size+seq_length:],\n",
    "    'metrics': {\n",
    "        'train_mae': train_mae,\n",
    "        'test_mae': test_mae,\n",
    "        'train_r2': train_r2,\n",
    "        'test_r2': test_r2,\n",
    "        'train_dir_acc': train_dir,\n",
    "        'test_dir_acc': test_dir\n",
    "    }\n",
    "}, 'notebooks/models/cnn/cnn_analysis_data.pth')\n",
    "\n",
    "print(\"✅ Zapisano dane do cnn_analysis_data.pth\")\n"
   ],
   "id": "e10988065ea5dbda",
   "outputs": [
    {
     "ename": "NameError",
     "evalue": "name 'y_train_real' is not defined",
     "output_type": "error",
     "traceback": [
      "\u001B[31m---------------------------------------------------------------------------\u001B[39m",
      "\u001B[31mNameError\u001B[39m                                 Traceback (most recent call last)",
      "\u001B[36mCell\u001B[39m\u001B[36m \u001B[39m\u001B[32mIn[1]\u001B[39m\u001B[32m, line 9\u001B[39m\n\u001B[32m      6\u001B[39m     \u001B[38;5;28;01mreturn\u001B[39;00m np.mean((np.diff(y_true.flatten()) > \u001B[32m0\u001B[39m) == (np.diff(y_pred.flatten()) > \u001B[32m0\u001B[39m))\n\u001B[32m      8\u001B[39m \u001B[38;5;66;03m# Oblicz metryki\u001B[39;00m\n\u001B[32m----> \u001B[39m\u001B[32m9\u001B[39m train_mae = mean_absolute_error(\u001B[43my_train_real\u001B[49m, train_predictions_denorm)\n\u001B[32m     10\u001B[39m test_mae = mean_absolute_error(y_test_real, test_predictions_denorm)\n\u001B[32m     11\u001B[39m train_r2 = r2_score(y_train_real, train_predictions_denorm)\n",
      "\u001B[31mNameError\u001B[39m: name 'y_train_real' is not defined"
     ]
    }
   ],
   "execution_count": 1
  }
 ],
 "metadata": {
  "kernelspec": {
   "display_name": "Python 3",
   "language": "python",
   "name": "python3"
  },
  "language_info": {
   "codemirror_mode": {
    "name": "ipython",
    "version": 2
   },
   "file_extension": ".py",
   "mimetype": "text/x-python",
   "name": "python",
   "nbconvert_exporter": "python",
   "pygments_lexer": "ipython2",
   "version": "2.7.6"
  }
 },
 "nbformat": 4,
 "nbformat_minor": 5
}
