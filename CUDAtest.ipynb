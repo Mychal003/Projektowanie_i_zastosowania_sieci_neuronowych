{
 "cells": [
  {
   "cell_type": "code",
   "execution_count": 1,
   "id": "317a7fde",
   "metadata": {},
   "outputs": [
    {
     "name": "stdout",
     "output_type": "stream",
     "text": [
      "CUDA dostępne: True\n",
      "Liczba dostępnych GPU: 1\n",
      "Nazwa GPU: Quadro M1200\n",
      "Operacja na GPU zakończona sukcesem:\n",
      " tensor([[1.8114, 1.3815, 1.2109],\n",
      "        [0.7621, 1.0142, 0.3115],\n",
      "        [1.0392, 0.6248, 0.3194]], device='cuda:0')\n"
     ]
    }
   ],
   "source": [
    "import torch\n",
    "\n",
    "def test_cuda():\n",
    "    print(\"CUDA dostępne:\", torch.cuda.is_available())\n",
    "    if torch.cuda.is_available():\n",
    "        print(\"Liczba dostępnych GPU:\", torch.cuda.device_count())\n",
    "        print(\"Nazwa GPU:\", torch.cuda.get_device_name(0))\n",
    "        \n",
    "        # Prosty test działania na GPU\n",
    "        x = torch.rand(3, 3).to(\"cuda\")\n",
    "        y = torch.rand(3, 3).to(\"cuda\")\n",
    "        z = x + y\n",
    "        print(\"Operacja na GPU zakończona sukcesem:\\n\", z)\n",
    "    else:\n",
    "        print(\"CUDA nie jest dostępne – sprawdź instalację PyTorch i sterowniki NVIDIA.\")\n",
    "\n",
    "test_cuda()\n"
   ]
  }
 ],
 "metadata": {
  "kernelspec": {
   "display_name": "Test2137",
   "language": "python",
   "name": "python3"
  },
  "language_info": {
   "codemirror_mode": {
    "name": "ipython",
    "version": 3
   },
   "file_extension": ".py",
   "mimetype": "text/x-python",
   "name": "python",
   "nbconvert_exporter": "python",
   "pygments_lexer": "ipython3",
   "version": "3.9.0"
  }
 },
 "nbformat": 4,
 "nbformat_minor": 5
}
